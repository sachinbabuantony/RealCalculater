{
 "cells": [
  {
   "cell_type": "markdown",
   "id": "06b03465",
   "metadata": {},
   "source": [
    "# Calculator for basic operations"
   ]
  },
  {
   "cell_type": "code",
   "execution_count": 63,
   "id": "6333d1d3",
   "metadata": {},
   "outputs": [
    {
     "name": "stdout",
     "output_type": "stream",
     "text": [
      "Enter any Equation (include spaces between each elements) : 2 % 3\n",
      " \n",
      "The modulus of 2 and 3 is 2\n"
     ]
    }
   ],
   "source": [
    "number1,operator,number2 = map(str,input(\"Enter any Equation (include spaces between each elements) : \").split()) #using split operator to tranform the input into 3 elements when seperated by spaces\n",
    "#and map distributes the str fun to input().split()\n",
    "\n",
    "number1 = int(number1)  #converting to integer by redefining\n",
    "number2 = int(number2)  #converting to integer by redefining\n",
    "\n",
    "print(\" \")              #spacing\n",
    "\n",
    "def add(a,b):      #defining add function\n",
    "    addition = a+b\n",
    "    print(f\"The sum of {a} and {b} is {addition}\")\n",
    "    return addition\n",
    "\n",
    "def subract(a,b):      #defining subract function\n",
    "    subraction = a-b\n",
    "    print(f\"The difference between {a} and {b} is {subraction}\")\n",
    "    return subraction\n",
    "\n",
    "def multiply(a,b):      #defining multiply function\n",
    "    mutliplication = a*b\n",
    "    print(f\"The product of {a} and {b} is {mutliplication}\")\n",
    "    return mutliplication\n",
    "\n",
    "def divide(a,b):      #defining divide function\n",
    "    division = a/b\n",
    "    print(f\"The quotient of {a} and {b} is {division}\")\n",
    "    return division\n",
    "\n",
    "def mod(a,b):      #defining divide function\n",
    "    modulus = a%b\n",
    "    print(f\"The modulus of {a} and {b} is {division}\")\n",
    "    return modulus\n",
    "\n",
    "if operator =='+':                       # conditions for each \"operator\"\n",
    "    add(number1,number2)\n",
    "    \n",
    "elif operator =='-':                     \n",
    "    subract(number1,number2)\n",
    "    \n",
    "elif operator =='*':\n",
    "    multiply(number1,number2)\n",
    "\n",
    "elif operator == '/':\n",
    "    divide(number1,number2)\n",
    "\n",
    "elif operator == '%':\n",
    "    modulus(number1,number2)\n",
    "    \n",
    "else:\n",
    "    print (\"invalid input\")"
   ]
  },
  {
   "cell_type": "code",
   "execution_count": null,
   "id": "3b9d9b7a",
   "metadata": {},
   "outputs": [],
   "source": []
  }
 ],
 "metadata": {
  "kernelspec": {
   "display_name": "Python 3",
   "language": "python",
   "name": "python3"
  },
  "language_info": {
   "codemirror_mode": {
    "name": "ipython",
    "version": 3
   },
   "file_extension": ".py",
   "mimetype": "text/x-python",
   "name": "python",
   "nbconvert_exporter": "python",
   "pygments_lexer": "ipython3",
   "version": "3.8.8"
  }
 },
 "nbformat": 4,
 "nbformat_minor": 5
}
